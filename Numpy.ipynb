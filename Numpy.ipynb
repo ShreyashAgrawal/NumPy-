{
 "cells": [
  {
   "cell_type": "code",
   "execution_count": 2,
   "id": "af675597",
   "metadata": {},
   "outputs": [],
   "source": [
    "import numpy as np"
   ]
  },
  {
   "cell_type": "code",
   "execution_count": 22,
   "id": "c666a0c9",
   "metadata": {},
   "outputs": [
    {
     "name": "stdout",
     "output_type": "stream",
     "text": [
      "[[ 1  3  5  7  9 11]\n",
      " [ 2  3  4  5  6  7]]\n",
      "[ 1  3  5  7  9 11]\n",
      "[5.   5.25 5.5  5.75 6.   6.25 6.5  6.75 7.   7.25 7.5  7.75 8.  ]\n",
      "[[0. 0.]\n",
      " [0. 0.]\n",
      " [0. 0.]\n",
      " [0. 0.]]\n",
      "[[1 1 1]\n",
      " [1 1 1]]\n",
      "[88 88 88 88 88 88]\n",
      "[25 30 35 40]\n",
      "[[ 1  3  5]\n",
      " [ 7  9 11]]\n",
      "[[0 0 0]\n",
      " [0 0 0]]\n"
     ]
    }
   ],
   "source": [
    "a = np.array([(1,3,5,7,9,11),(2,3,4,5,6,7)])\n",
    "print(a)\n",
    "\n",
    "a = np.arange(1, 12, 2)    # (start, stop, step)\n",
    "print(a)\n",
    "\n",
    "a = np.linspace(5, 8, 13)  # (start, stop, number of items)\n",
    "print(a)\n",
    "\n",
    "a = np.zeros((4, 2))\n",
    "print(a)\n",
    "\n",
    "a = np.ones((2, 3), dtype=np.int16)\n",
    "print(a)\n",
    "\n",
    "a = np.full((6,), 88)\n",
    "print(a)\n",
    "\n",
    "a = np.fromstring('25 30 35 40', dtype=int, sep=' ')\n",
    "print(a)\n",
    "\n",
    "a = np.array([[1,3,5],[7,9,11]])\n",
    "print(a)\n",
    "\n",
    "b = np.zeros_like(a)    # _like gives you a new array in the same shape as the argument.\n",
    "print(b)"
   ]
  },
  {
   "cell_type": "code",
   "execution_count": 5,
   "id": "88832bd3",
   "metadata": {},
   "outputs": [
    {
     "name": "stdout",
     "output_type": "stream",
     "text": [
      "6\n",
      "(2, 3)\n",
      "2\n",
      "4\n",
      "int32\n",
      "24\n"
     ]
    }
   ],
   "source": [
    "print(a.size)\n",
    "print(a.shape)\n",
    "print(a.ndim)\n",
    "print(a.itemsize)\n",
    "print(a.dtype)\n",
    "print(a.nbytes)  # same as a.size * a.itemsize"
   ]
  },
  {
   "cell_type": "code",
   "execution_count": 6,
   "id": "ed897221",
   "metadata": {},
   "outputs": [
    {
     "name": "stdout",
     "output_type": "stream",
     "text": [
      "[[ 1  3  5]\n",
      " [ 7  9 11]]\n",
      "[ 7  9 11]\n",
      "5\n",
      "[]\n",
      "[[1 3 5]]\n",
      "[[ 7  9 11]]\n",
      "[[3]\n",
      " [9]]\n"
     ]
    }
   ],
   "source": [
    "print(a)\n",
    "print(a[1])\n",
    "print(a[0][2])\n",
    "print(b[2:4])\n",
    "\n",
    "print(a[:1])\n",
    "print(a[1:3:2])\n",
    "print(a[:, 1:2])  # all elements on dimension 0, only element 1 on dimension 1"
   ]
  },
  {
   "cell_type": "code",
   "execution_count": 11,
   "id": "aac5a9c2",
   "metadata": {},
   "outputs": [
    {
     "name": "stdout",
     "output_type": "stream",
     "text": [
      "[[-9 -8 -7]\n",
      " [-6 -5 -4]]\n",
      "[[-9 -6]\n",
      " [-8 -5]\n",
      " [-7 -4]]\n",
      "[-9 -6 -8 -5 -7 -4]\n"
     ]
    }
   ],
   "source": [
    "c = np.arange(-9, -3).reshape(2,3)\n",
    "print(c)\n",
    "\n",
    "c = c.swapaxes(0,1)\n",
    "print(c)\n",
    "\n",
    "c = c.flatten()\n",
    "print(c)"
   ]
  },
  {
   "cell_type": "code",
   "execution_count": 8,
   "id": "f43a5cde",
   "metadata": {},
   "outputs": [
    {
     "name": "stdout",
     "output_type": "stream",
     "text": [
      "int32 <class 'numpy.int32'>\n",
      "400\n",
      "int8 <class 'numpy.int8'>\n",
      "100\n"
     ]
    }
   ],
   "source": [
    "d = np.arange(0,100)\n",
    "print(d.dtype, type(d[1]))\n",
    "print(d.nbytes)\n",
    "\n",
    "d = np.arange(0,100, dtype='int8')\n",
    "print(d.dtype, type(d[1]))\n",
    "print(d.nbytes)"
   ]
  },
  {
   "cell_type": "code",
   "execution_count": 18,
   "id": "3aef8918",
   "metadata": {},
   "outputs": [
    {
     "name": "stdout",
     "output_type": "stream",
     "text": [
      "float64\n",
      "[[1.57 2.   3.  ]\n",
      " [4.   5.   6.  ]]\n",
      "[[1.57 2.   3.  ]\n",
      " [4.   5.   6.  ]]\n"
     ]
    }
   ],
   "source": [
    "e = np.array([(1.566666,2,3), (4,5,6)])\n",
    "print(e.dtype)\n",
    "\n",
    "e = e.round(4)\n",
    "print(e)\n",
    "\n",
    "np.set_printoptions(precision=2, suppress=True)    # show 2 decimal places, suppress scientific notation\n",
    "print(e)"
   ]
  },
  {
   "cell_type": "code",
   "execution_count": 10,
   "id": "e4b5a97b",
   "metadata": {},
   "outputs": [
    {
     "name": "stdout",
     "output_type": "stream",
     "text": [
      "[0.16328 0.31574 0.95609 0.80999 0.70806 0.15606]\n",
      "[55 72 72 11 48 98 81 55]\n",
      "[81 72 72 48 98 55 11 55]\n",
      "55\n",
      "[11 48 55 55 72 72 81 98]\n"
     ]
    }
   ],
   "source": [
    "np.set_printoptions(precision=5, suppress=True)    # show 5 decimal places, suppress scientific notation\n",
    "h = np.random.random(6)\n",
    "print(h)\n",
    "\n",
    "h = np.random.randint(10, 99, 8)    # (low, high inclusive, size)\n",
    "print(h)\n",
    "\n",
    "np.random.shuffle(h)        # in-place shuffle\n",
    "print(h)\n",
    "\n",
    "print(np.random.choice(h))\n",
    "\n",
    "h.sort()                    # in-place sort\n",
    "print(h)"
   ]
  },
  {
   "cell_type": "code",
   "execution_count": null,
   "id": "0f8d95c0",
   "metadata": {},
   "outputs": [],
   "source": []
  }
 ],
 "metadata": {
  "kernelspec": {
   "display_name": "Python 3",
   "language": "python",
   "name": "python3"
  },
  "language_info": {
   "codemirror_mode": {
    "name": "ipython",
    "version": 3
   },
   "file_extension": ".py",
   "mimetype": "text/x-python",
   "name": "python",
   "nbconvert_exporter": "python",
   "pygments_lexer": "ipython3",
   "version": "3.8.8"
  }
 },
 "nbformat": 4,
 "nbformat_minor": 5
}
